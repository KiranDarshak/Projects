{
 "cells": [
  {
   "cell_type": "code",
   "execution_count": 1,
   "metadata": {},
   "outputs": [],
   "source": [
    "library(ISLR)"
   ]
  },
  {
   "cell_type": "code",
   "execution_count": 2,
   "metadata": {},
   "outputs": [
    {
     "data": {
      "text/html": [
       "<table>\n",
       "<thead><tr><th scope=col>Sepal.Length</th><th scope=col>Sepal.Width</th><th scope=col>Petal.Length</th><th scope=col>Petal.Width</th><th scope=col>Species</th></tr></thead>\n",
       "<tbody>\n",
       "\t<tr><td>5.1   </td><td>3.5   </td><td>1.4   </td><td>0.2   </td><td>setosa</td></tr>\n",
       "\t<tr><td>4.9   </td><td>3.0   </td><td>1.4   </td><td>0.2   </td><td>setosa</td></tr>\n",
       "\t<tr><td>4.7   </td><td>3.2   </td><td>1.3   </td><td>0.2   </td><td>setosa</td></tr>\n",
       "\t<tr><td>4.6   </td><td>3.1   </td><td>1.5   </td><td>0.2   </td><td>setosa</td></tr>\n",
       "\t<tr><td>5.0   </td><td>3.6   </td><td>1.4   </td><td>0.2   </td><td>setosa</td></tr>\n",
       "\t<tr><td>5.4   </td><td>3.9   </td><td>1.7   </td><td>0.4   </td><td>setosa</td></tr>\n",
       "</tbody>\n",
       "</table>\n"
      ],
      "text/latex": [
       "\\begin{tabular}{r|lllll}\n",
       " Sepal.Length & Sepal.Width & Petal.Length & Petal.Width & Species\\\\\n",
       "\\hline\n",
       "\t 5.1    & 3.5    & 1.4    & 0.2    & setosa\\\\\n",
       "\t 4.9    & 3.0    & 1.4    & 0.2    & setosa\\\\\n",
       "\t 4.7    & 3.2    & 1.3    & 0.2    & setosa\\\\\n",
       "\t 4.6    & 3.1    & 1.5    & 0.2    & setosa\\\\\n",
       "\t 5.0    & 3.6    & 1.4    & 0.2    & setosa\\\\\n",
       "\t 5.4    & 3.9    & 1.7    & 0.4    & setosa\\\\\n",
       "\\end{tabular}\n"
      ],
      "text/markdown": [
       "\n",
       "| Sepal.Length | Sepal.Width | Petal.Length | Petal.Width | Species |\n",
       "|---|---|---|---|---|\n",
       "| 5.1    | 3.5    | 1.4    | 0.2    | setosa |\n",
       "| 4.9    | 3.0    | 1.4    | 0.2    | setosa |\n",
       "| 4.7    | 3.2    | 1.3    | 0.2    | setosa |\n",
       "| 4.6    | 3.1    | 1.5    | 0.2    | setosa |\n",
       "| 5.0    | 3.6    | 1.4    | 0.2    | setosa |\n",
       "| 5.4    | 3.9    | 1.7    | 0.4    | setosa |\n",
       "\n"
      ],
      "text/plain": [
       "  Sepal.Length Sepal.Width Petal.Length Petal.Width Species\n",
       "1 5.1          3.5         1.4          0.2         setosa \n",
       "2 4.9          3.0         1.4          0.2         setosa \n",
       "3 4.7          3.2         1.3          0.2         setosa \n",
       "4 4.6          3.1         1.5          0.2         setosa \n",
       "5 5.0          3.6         1.4          0.2         setosa \n",
       "6 5.4          3.9         1.7          0.4         setosa "
      ]
     },
     "metadata": {},
     "output_type": "display_data"
    }
   ],
   "source": [
    "head(iris)"
   ]
  },
  {
   "cell_type": "markdown",
   "metadata": {},
   "source": [
    "**Scaling the Data**"
   ]
  },
  {
   "cell_type": "code",
   "execution_count": 5,
   "metadata": {},
   "outputs": [
    {
     "name": "stdout",
     "output_type": "stream",
     "text": [
      "             Sepal.Length Sepal.Width Petal.Length Petal.Width\n",
      "Sepal.Length    1.0000000  -0.1175698    0.8717538   0.8179411\n",
      "Sepal.Width    -0.1175698   1.0000000   -0.4284401  -0.3661259\n",
      "Petal.Length    0.8717538  -0.4284401    1.0000000   0.9628654\n",
      "Petal.Width     0.8179411  -0.3661259    0.9628654   1.0000000\n"
     ]
    }
   ],
   "source": [
    "stand.features <- scale(iris[1:4])\n",
    "print(var(stand.features))"
   ]
  },
  {
   "cell_type": "code",
   "execution_count": 6,
   "metadata": {},
   "outputs": [],
   "source": [
    "final.data <- cbind(stand.features,iris[5])"
   ]
  },
  {
   "cell_type": "markdown",
   "metadata": {},
   "source": [
    "**Train Test Splits**"
   ]
  },
  {
   "cell_type": "code",
   "execution_count": 7,
   "metadata": {},
   "outputs": [],
   "source": [
    "set.seed(101)\n",
    "library(caTools)"
   ]
  },
  {
   "cell_type": "code",
   "execution_count": 8,
   "metadata": {},
   "outputs": [],
   "source": [
    "sample <- sample.split(final.data$Species, SplitRatio = 0.7)"
   ]
  },
  {
   "cell_type": "code",
   "execution_count": 9,
   "metadata": {},
   "outputs": [],
   "source": [
    "train <-subset(final.data,sample==T)"
   ]
  },
  {
   "cell_type": "code",
   "execution_count": 10,
   "metadata": {},
   "outputs": [],
   "source": [
    "test <- subset(final.data,sample==F)"
   ]
  },
  {
   "cell_type": "markdown",
   "metadata": {},
   "source": [
    "# KNN"
   ]
  },
  {
   "cell_type": "code",
   "execution_count": 11,
   "metadata": {},
   "outputs": [],
   "source": [
    "library(class)"
   ]
  },
  {
   "cell_type": "code",
   "execution_count": 17,
   "metadata": {},
   "outputs": [],
   "source": [
    "predicted.species <-knn(train[1:4],test[1:4],train$Species,k=1)"
   ]
  },
  {
   "cell_type": "code",
   "execution_count": 20,
   "metadata": {},
   "outputs": [
    {
     "name": "stdout",
     "output_type": "stream",
     "text": [
      " [1] setosa     setosa     setosa     setosa     setosa     setosa    \n",
      " [7] setosa     setosa     setosa     setosa     setosa     setosa    \n",
      "[13] setosa     setosa     setosa     versicolor versicolor versicolor\n",
      "[19] versicolor versicolor virginica  versicolor versicolor versicolor\n",
      "[25] versicolor versicolor virginica  versicolor versicolor versicolor\n",
      "[31] virginica  virginica  virginica  virginica  virginica  virginica \n",
      "[37] virginica  virginica  virginica  virginica  virginica  virginica \n",
      "[43] virginica  virginica  virginica \n",
      "Levels: setosa versicolor virginica\n"
     ]
    }
   ],
   "source": [
    "print(predicted.species)"
   ]
  },
  {
   "cell_type": "code",
   "execution_count": 22,
   "metadata": {},
   "outputs": [
    {
     "name": "stdout",
     "output_type": "stream",
     "text": [
      "[1] 0.04444444\n"
     ]
    }
   ],
   "source": [
    "print(mean(test$Species != prected.species))\n",
    "# 4.44% misclassfied result"
   ]
  },
  {
   "cell_type": "markdown",
   "metadata": {},
   "source": [
    "**Choosing a K Value** "
   ]
  },
  {
   "cell_type": "code",
   "execution_count": 23,
   "metadata": {},
   "outputs": [],
   "source": [
    "predicted.species <-NULL\n",
    "error.rate <- NULL"
   ]
  },
  {
   "cell_type": "code",
   "execution_count": 35,
   "metadata": {},
   "outputs": [],
   "source": [
    "for (i in 1:20){\n",
    "    set.seed(101)\n",
    "    predicted.species <- knn(train[1:4],test[1:4], train$Species,k=i)\n",
    "    error.rate[i] <- mean(test$Species != predicted.species)\n",
    "}"
   ]
  },
  {
   "cell_type": "code",
   "execution_count": 37,
   "metadata": {},
   "outputs": [
    {
     "name": "stdout",
     "output_type": "stream",
     "text": [
      " [1] 0.04444444 0.02222222 0.02222222 0.02222222 0.02222222 0.02222222\n",
      " [7] 0.06666667 0.06666667 0.04444444 0.02222222 0.02222222 0.02222222\n",
      "[13] 0.02222222 0.02222222 0.02222222 0.02222222 0.02222222 0.02222222\n",
      "[19] 0.02222222 0.02222222\n"
     ]
    }
   ],
   "source": [
    "print(error.rate)"
   ]
  },
  {
   "cell_type": "markdown",
   "metadata": {},
   "source": [
    "**Plotting for Elbow Method**\n",
    " - We can plot out the various error rates for the K values. We should see an \"elbow\" indicating that we don't get a decrease in error rate for using a higher K."
   ]
  },
  {
   "cell_type": "code",
   "execution_count": 25,
   "metadata": {},
   "outputs": [
    {
     "name": "stderr",
     "output_type": "stream",
     "text": [
      "Registered S3 methods overwritten by 'ggplot2':\n",
      "  method         from \n",
      "  [.quosures     rlang\n",
      "  c.quosures     rlang\n",
      "  print.quosures rlang\n"
     ]
    }
   ],
   "source": [
    "library(ggplot2)"
   ]
  },
  {
   "cell_type": "code",
   "execution_count": 26,
   "metadata": {},
   "outputs": [],
   "source": [
    "k.values <-1:10\n",
    "error.df <-data.frame(error.rate,k.values)"
   ]
  },
  {
   "cell_type": "code",
   "execution_count": 38,
   "metadata": {},
   "outputs": [
    {
     "data": {
      "text/html": [
       "<table>\n",
       "<thead><tr><th scope=col>error.rate</th><th scope=col>k.values</th></tr></thead>\n",
       "<tbody>\n",
       "\t<tr><td>0.04444444</td><td> 1        </td></tr>\n",
       "\t<tr><td>0.02222222</td><td> 2        </td></tr>\n",
       "\t<tr><td>0.02222222</td><td> 3        </td></tr>\n",
       "\t<tr><td>0.02222222</td><td> 4        </td></tr>\n",
       "\t<tr><td>0.02222222</td><td> 5        </td></tr>\n",
       "\t<tr><td>0.02222222</td><td> 6        </td></tr>\n",
       "\t<tr><td>0.06666667</td><td> 7        </td></tr>\n",
       "\t<tr><td>0.06666667</td><td> 8        </td></tr>\n",
       "\t<tr><td>0.04444444</td><td> 9        </td></tr>\n",
       "\t<tr><td>0.02222222</td><td>10        </td></tr>\n",
       "</tbody>\n",
       "</table>\n"
      ],
      "text/latex": [
       "\\begin{tabular}{r|ll}\n",
       " error.rate & k.values\\\\\n",
       "\\hline\n",
       "\t 0.04444444 &  1        \\\\\n",
       "\t 0.02222222 &  2        \\\\\n",
       "\t 0.02222222 &  3        \\\\\n",
       "\t 0.02222222 &  4        \\\\\n",
       "\t 0.02222222 &  5        \\\\\n",
       "\t 0.02222222 &  6        \\\\\n",
       "\t 0.06666667 &  7        \\\\\n",
       "\t 0.06666667 &  8        \\\\\n",
       "\t 0.04444444 &  9        \\\\\n",
       "\t 0.02222222 & 10        \\\\\n",
       "\\end{tabular}\n"
      ],
      "text/markdown": [
       "\n",
       "| error.rate | k.values |\n",
       "|---|---|\n",
       "| 0.04444444 |  1         |\n",
       "| 0.02222222 |  2         |\n",
       "| 0.02222222 |  3         |\n",
       "| 0.02222222 |  4         |\n",
       "| 0.02222222 |  5         |\n",
       "| 0.02222222 |  6         |\n",
       "| 0.06666667 |  7         |\n",
       "| 0.06666667 |  8         |\n",
       "| 0.04444444 |  9         |\n",
       "| 0.02222222 | 10         |\n",
       "\n"
      ],
      "text/plain": [
       "   error.rate k.values\n",
       "1  0.04444444  1      \n",
       "2  0.02222222  2      \n",
       "3  0.02222222  3      \n",
       "4  0.02222222  4      \n",
       "5  0.02222222  5      \n",
       "6  0.02222222  6      \n",
       "7  0.06666667  7      \n",
       "8  0.06666667  8      \n",
       "9  0.04444444  9      \n",
       "10 0.02222222 10      "
      ]
     },
     "metadata": {},
     "output_type": "display_data"
    }
   ],
   "source": [
    "error.df"
   ]
  },
  {
   "cell_type": "code",
   "execution_count": 39,
   "metadata": {},
   "outputs": [],
   "source": [
    "pl <- ggplot(error.df,aes(x=k.values,y=error.rate))+ geom_point()\n",
    "pl <- pl + geom_line(lty= 'dotted',color = 'red',size=1)"
   ]
  },
  {
   "cell_type": "code",
   "execution_count": 40,
   "metadata": {},
   "outputs": [
    {
     "data": {
      "image/png": "[encoded data removed]",
      "text/plain": [
       "plot without title"
      ]
     },
     "metadata": {},
     "output_type": "display_data"
    }
   ],
   "source": [
    "pl"
   ]
  },
  {
   "cell_type": "markdown",
   "metadata": {},
   "source": [
    "**Error rate drops down when K is inreased from 1 to 2. And Optimal K value should be 3 or 4** "
   ]
  },
  {
   "cell_type": "code",
   "execution_count": null,
   "metadata": {},
   "outputs": [],
   "source": []
  }
 ],
 "metadata": {
  "kernelspec": {
   "display_name": "R",
   "language": "R",
   "name": "ir"
  },
  "language_info": {
   "codemirror_mode": "r",
   "file_extension": ".r",
   "mimetype": "text/x-r-source",
   "name": "R",
   "pygments_lexer": "r",
   "version": "3.6.1"
  }
 },
 "nbformat": 4,
 "nbformat_minor": 2
}
